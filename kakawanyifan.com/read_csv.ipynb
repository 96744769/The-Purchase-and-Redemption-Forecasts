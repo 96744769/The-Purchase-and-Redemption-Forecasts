{
 "cells": [
  {
   "cell_type": "code",
   "execution_count": 6,
   "metadata": {
    "collapsed": true
   },
   "outputs": [
    {
     "name": "stdout",
     "output_type": "stream",
     "text": [
      "[1, b'20140805', 20385, 20383, 2, 0, 0, 0, 0, 0, 0, 0, 0, 2, 0, 0, 0, 0]\n"
     ]
    }
   ],
   "source": [
    "import tensorflow\n",
    "tf = tensorflow.compat.v1\n",
    "# 关闭动态图执行\n",
    "tf.disable_eager_execution()\n",
    "\n",
    "import os\n",
    "\n",
    "# 找到文件，放入列表\n",
    "file_name = os.listdir('./data/')\n",
    "file_list = [os.path.join('./data/',file) for file in file_name]\n",
    "\n",
    "# 构造文件队列\n",
    "file_queue = tf.train.string_input_producer(file_list)\n",
    "\n",
    "# 实例化阅读器\n",
    "reader = tf.TextLineReader(skip_header_lines=1)\n",
    "# 读取\n",
    "key,value = reader.read(file_queue)\n",
    "\n",
    "# 对内容解码\n",
    "record = [[0],['none'],[0],[0],[0],[0],[0],[0],[0],[0],[0],[0],[0],[0],[0],[0],[0],[0]]\n",
    "rtn = tf.decode_csv(value,record_defaults=record)\n",
    "\n",
    "with tf.Session() as sess:\n",
    "    # 开启读取文件的线程\n",
    "    coord = tf.train.Coordinator()\n",
    "    threads = tf.train.start_queue_runners(sess,coord=coord)\n",
    "    # 打印读取的内容\n",
    "    print(sess.run(rtn))\n",
    "    # 回收子线程\n",
    "    coord.request_stop()\n",
    "    coord.join(threads=threads)\n"
   ]
  }
 ],
 "metadata": {
  "kernelspec": {
   "display_name": "Python 3",
   "language": "python",
   "name": "python3"
  },
  "language_info": {
   "codemirror_mode": {
    "name": "ipython",
    "version": 2
   },
   "file_extension": ".py",
   "mimetype": "text/x-python",
   "name": "python",
   "nbconvert_exporter": "python",
   "pygments_lexer": "ipython2",
   "version": "2.7.6"
  }
 },
 "nbformat": 4,
 "nbformat_minor": 0
}